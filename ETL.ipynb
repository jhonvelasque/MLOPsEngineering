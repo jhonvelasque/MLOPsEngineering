{
 "cells": [
  {
   "attachments": {},
   "cell_type": "markdown",
   "metadata": {},
   "source": [
    "# ETL"
   ]
  },
  {
   "cell_type": "markdown",
   "metadata": {},
   "source": [
    "## IMPORTANDO LIBRERIAS "
   ]
  },
  {
   "cell_type": "code",
   "execution_count": 20,
   "metadata": {},
   "outputs": [],
   "source": [
    "\n",
    "import pandas as pd\n",
    "import numpy as np\n",
    "# Módulo para trabajar con rutas de archivo\n",
    "from pathlib import Path\n",
    "# Librería para identificar encondings\n",
    "import chardet\n",
    "#importamos lalibreria os para trabajar con los archivos\n",
    "import os\n"
   ]
  },
  {
   "attachments": {},
   "cell_type": "markdown",
   "metadata": {},
   "source": [
    "## cargando data set"
   ]
  },
  {
   "cell_type": "code",
   "execution_count": 21,
   "metadata": {},
   "outputs": [],
   "source": [
    "#funcion para leer archivos csv y json a partir de una ruta\n",
    "def get_data(filepath):\n",
    "    #manejando los archivos csv y json\n",
    "    with open(filepath, 'rb') as file:\n",
    "        result = chardet.detect(file.read())\n",
    "        # Para importar archivos csv, detectando encoding\n",
    "        if Path(filepath).suffix == \".csv\": \n",
    "            DF = pd.read_csv(filepath, encoding=result['encoding'])\n",
    "        # Para importar archivos json\n",
    "        elif Path(filepath).suffix == \".json\": \n",
    "            DF = pd.read_json(filepath) \n",
    "\n",
    "    return DF\n",
    "\n",
    "#en esta funcion podemos añadir los archivos que queremos leer segun nuestras necesidades"
   ]
  },
  {
   "cell_type": "code",
   "execution_count": 22,
   "metadata": {},
   "outputs": [],
   "source": [
    "#funcionque nos da el nombres de los archivos a partir de la ruta del   archivo\n",
    "def get_nombre_archivo(filepath):\n",
    "    #leemos el contenido de la ruta \n",
    "    archivos = os.listdir(filepath)\n",
    "    archivos_sin_extension = [os.path.splitext(nombre_archivo)[0] for nombre_archivo in archivos if os.path.splitext(nombre_archivo)[1] in ['.csv','.json'] ]\n",
    "    return archivos_sin_extension"
   ]
  },
  {
   "cell_type": "code",
   "execution_count": 23,
   "metadata": {},
   "outputs": [
    {
     "name": "stdout",
     "output_type": "stream",
     "text": [
      "el nombre de tu variable 1 es : disney_plus_titles\n",
      "el nombre de tu variable 2 es : amazon_prime_titles\n",
      "el nombre de tu variable 3 es : netflix_titles\n",
      "el nombre de tu variable 4 es : hulu_titles\n"
     ]
    }
   ],
   "source": [
    "#creando  los data framees a partir de los nombres que nos dieron\n",
    "i=1\n",
    "directorio='./data/'\n",
    "\n",
    "for nombre_archivo in get_nombre_archivo(directorio):\n",
    "    locals()[nombre_archivo]=get_data(f'{directorio}{nombre_archivo}.csv')\n",
    "    print(f'el nombre de tu variable {i} es :',nombre_archivo)\n",
    "    i+=1"
   ]
  },
  {
   "cell_type": "code",
   "execution_count": 24,
   "metadata": {},
   "outputs": [
    {
     "name": "stdout",
     "output_type": "stream",
     "text": [
      "--------------------------------------------------\n",
      "las caractericas del df disney_plus_titles es :\n",
      "--------------------------------------------------\n",
      "<class 'pandas.core.frame.DataFrame'>\n",
      "RangeIndex: 1450 entries, 0 to 1449\n",
      "Data columns (total 12 columns):\n",
      " #   Column        Non-Null Count  Dtype \n",
      "---  ------        --------------  ----- \n",
      " 0   show_id       1450 non-null   object\n",
      " 1   type          1450 non-null   object\n",
      " 2   title         1450 non-null   object\n",
      " 3   director      977 non-null    object\n",
      " 4   cast          1260 non-null   object\n",
      " 5   country       1231 non-null   object\n",
      " 6   date_added    1447 non-null   object\n",
      " 7   release_year  1450 non-null   int64 \n",
      " 8   rating        1447 non-null   object\n",
      " 9   duration      1450 non-null   object\n",
      " 10  listed_in     1450 non-null   object\n",
      " 11  description   1450 non-null   object\n",
      "dtypes: int64(1), object(11)\n",
      "memory usage: 136.1+ KB\n",
      "None\n",
      "--------------------------------------------------\n",
      "las caractericas del df amazon_prime_titles es :\n",
      "--------------------------------------------------\n",
      "<class 'pandas.core.frame.DataFrame'>\n",
      "RangeIndex: 9668 entries, 0 to 9667\n",
      "Data columns (total 12 columns):\n",
      " #   Column        Non-Null Count  Dtype \n",
      "---  ------        --------------  ----- \n",
      " 0   show_id       9668 non-null   object\n",
      " 1   type          9668 non-null   object\n",
      " 2   title         9668 non-null   object\n",
      " 3   director      7585 non-null   object\n",
      " 4   cast          8435 non-null   object\n",
      " 5   country       672 non-null    object\n",
      " 6   date_added    155 non-null    object\n",
      " 7   release_year  9668 non-null   int64 \n",
      " 8   rating        9331 non-null   object\n",
      " 9   duration      9668 non-null   object\n",
      " 10  listed_in     9668 non-null   object\n",
      " 11  description   9668 non-null   object\n",
      "dtypes: int64(1), object(11)\n",
      "memory usage: 906.5+ KB\n",
      "None\n",
      "--------------------------------------------------\n",
      "las caractericas del df netflix_titles es :\n",
      "--------------------------------------------------\n",
      "<class 'pandas.core.frame.DataFrame'>\n",
      "RangeIndex: 8807 entries, 0 to 8806\n",
      "Data columns (total 12 columns):\n",
      " #   Column        Non-Null Count  Dtype \n",
      "---  ------        --------------  ----- \n",
      " 0   show_id       8807 non-null   object\n",
      " 1   type          8807 non-null   object\n",
      " 2   title         8807 non-null   object\n",
      " 3   director      6173 non-null   object\n",
      " 4   cast          7982 non-null   object\n",
      " 5   country       7976 non-null   object\n",
      " 6   date_added    8797 non-null   object\n",
      " 7   release_year  8807 non-null   int64 \n",
      " 8   rating        8803 non-null   object\n",
      " 9   duration      8804 non-null   object\n",
      " 10  listed_in     8807 non-null   object\n",
      " 11  description   8807 non-null   object\n",
      "dtypes: int64(1), object(11)\n",
      "memory usage: 825.8+ KB\n",
      "None\n",
      "--------------------------------------------------\n",
      "las caractericas del df hulu_titles es :\n",
      "--------------------------------------------------\n",
      "<class 'pandas.core.frame.DataFrame'>\n",
      "RangeIndex: 3073 entries, 0 to 3072\n",
      "Data columns (total 12 columns):\n",
      " #   Column        Non-Null Count  Dtype  \n",
      "---  ------        --------------  -----  \n",
      " 0   show_id       3073 non-null   object \n",
      " 1   type          3073 non-null   object \n",
      " 2   title         3073 non-null   object \n",
      " 3   director      3 non-null      object \n",
      " 4   cast          0 non-null      float64\n",
      " 5   country       1620 non-null   object \n",
      " 6   date_added    3045 non-null   object \n",
      " 7   release_year  3073 non-null   int64  \n",
      " 8   rating        2553 non-null   object \n",
      " 9   duration      2594 non-null   object \n",
      " 10  listed_in     3073 non-null   object \n",
      " 11  description   3069 non-null   object \n",
      "dtypes: float64(1), int64(1), object(10)\n",
      "memory usage: 288.2+ KB\n",
      "None\n"
     ]
    }
   ],
   "source": [
    "\n",
    "#bucle para ver el esquema de las df \n",
    "for df in get_nombre_archivo(directorio):\n",
    "    print('-'*50)\n",
    "    print(f'las caractericas del df {df} es :',)\n",
    "    print('-'*50)\n",
    "    print(locals()[df].info())"
   ]
  },
  {
   "cell_type": "code",
   "execution_count": 25,
   "metadata": {},
   "outputs": [
    {
     "name": "stdout",
     "output_type": "stream",
     "text": [
      "<class 'pandas.core.frame.DataFrame'>\n",
      "RangeIndex: 9668 entries, 0 to 9667\n",
      "Data columns (total 12 columns):\n",
      " #   Column        Non-Null Count  Dtype \n",
      "---  ------        --------------  ----- \n",
      " 0   show_id       9668 non-null   object\n",
      " 1   type          9668 non-null   object\n",
      " 2   title         9668 non-null   object\n",
      " 3   director      7585 non-null   object\n",
      " 4   cast          8435 non-null   object\n",
      " 5   country       672 non-null    object\n",
      " 6   date_added    155 non-null    object\n",
      " 7   release_year  9668 non-null   int64 \n",
      " 8   rating        9331 non-null   object\n",
      " 9   duration      9668 non-null   object\n",
      " 10  listed_in     9668 non-null   object\n",
      " 11  description   9668 non-null   object\n",
      "dtypes: int64(1), object(11)\n",
      "memory usage: 906.5+ KB\n"
     ]
    }
   ],
   "source": [
    "amazon_prime_titles.info()\n"
   ]
  },
  {
   "attachments": {},
   "cell_type": "markdown",
   "metadata": {},
   "source": [
    "### Inputacion de datos"
   ]
  },
  {
   "cell_type": "code",
   "execution_count": 26,
   "metadata": {},
   "outputs": [],
   "source": [
    "for df in get_nombre_archivo(directorio):\n",
    "    locals()[df].set_index('title', drop=True, inplace=True)"
   ]
  },
  {
   "cell_type": "code",
   "execution_count": 27,
   "metadata": {},
   "outputs": [],
   "source": [
    "for df in get_nombre_archivo(directorio):\n",
    "    for data in get_nombre_archivo(directorio):\n",
    "        if data != df:\n",
    "            locals()[df].fillna(locals()[data], inplace=True)"
   ]
  },
  {
   "cell_type": "code",
   "execution_count": 28,
   "metadata": {},
   "outputs": [],
   "source": [
    "for df in get_nombre_archivo(directorio):\n",
    "    locals()[df].reset_index(inplace=True)"
   ]
  },
  {
   "cell_type": "code",
   "execution_count": null,
   "metadata": {},
   "outputs": [],
   "source": []
  },
  {
   "cell_type": "markdown",
   "metadata": {},
   "source": [
    "## Transformaciones"
   ]
  },
  {
   "cell_type": "code",
   "execution_count": 29,
   "metadata": {},
   "outputs": [],
   "source": [
    "# Generando el campo id\n",
    "for df in get_nombre_archivo(directorio):\n",
    "    locals()[df]['id'] = df[0]+locals()[df]['show_id']"
   ]
  },
  {
   "cell_type": "code",
   "execution_count": 30,
   "metadata": {},
   "outputs": [],
   "source": [
    "#Remplazando los valores nulos por G\n",
    "for df in get_nombre_archivo(directorio):\n",
    "    locals()[df]['rating'].fillna('G', inplace=True)\n",
    "    locals()[df]['rating'].astype(str)"
   ]
  },
  {
   "cell_type": "code",
   "execution_count": 31,
   "metadata": {},
   "outputs": [],
   "source": [
    "\n",
    "#dando  formato AAAA-mm-dd a las fechas \n",
    "for df in get_nombre_archivo(directorio):\n",
    "    #formato de las fechasoriginales \n",
    "    date_format ='%B %d, %Y'\n",
    "    #convertimos las fechas a formato AAAA-mm-dd\n",
    "    locals()[df]['date_added']=pd.to_datetime(locals()[df]['date_added'].str.strip(),format=date_format)\n",
    "    #con esta linea de codigo podemos darle el formato que queramos a las fechas\n",
    "    #locals()[df]['date_added'] = locals()[df]['date_added'].strftime(\"%d %B %Y\")\n",
    "\n"
   ]
  },
  {
   "cell_type": "code",
   "execution_count": 32,
   "metadata": {},
   "outputs": [],
   "source": [
    "#Los campos de texto deberán estar en minúsculas, sin excepciones\n",
    "for df in get_nombre_archivo(directorio):\n",
    "    colunas_obj=locals()[df].select_dtypes('object').columns\n",
    "    locals()[df][colunas_obj]=(\n",
    "                                locals()[df][colunas_obj]\n",
    "                               .apply(lambda x: x.str.lower())\n",
    "                               )"
   ]
  },
  {
   "cell_type": "code",
   "execution_count": 33,
   "metadata": {},
   "outputs": [],
   "source": [
    "#El campo duration debe convertirse en dos campos: duration_int y duration_unit\n",
    "\n",
    "for df in get_nombre_archivo(directorio):\n",
    "    locals()[df]['duration'].fillna('sin dato', inplace=True)\n",
    "    locals()[df]['duration_int'] = locals()[df]['duration'].apply(lambda x: x.split(' ')[0])\n",
    "    locals()[df]['duration_int'].replace('sin','0', inplace=True)\n",
    "    locals()[df]['duration_int']=locals()[df]['duration_int'].astype(int)\n",
    "    locals()[df]['duration_unit'] = locals()[df]['duration'].apply(lambda x: x.split(' ')[1])"
   ]
  },
  {
   "attachments": {},
   "cell_type": "markdown",
   "metadata": {},
   "source": [
    "# Exportando los datos "
   ]
  },
  {
   "cell_type": "code",
   "execution_count": 42,
   "metadata": {},
   "outputs": [
    {
     "data": {
      "text/plain": [
       "['disney_plus_titles', 'amazon_prime_titles', 'netflix_titles', 'hulu_titles']"
      ]
     },
     "execution_count": 42,
     "metadata": {},
     "output_type": "execute_result"
    }
   ],
   "source": [
    "get_nombre_archivo(directorio)"
   ]
  },
  {
   "cell_type": "code",
   "execution_count": 44,
   "metadata": {},
   "outputs": [
    {
     "data": {
      "text/plain": [
       "'disney'"
      ]
     },
     "execution_count": 44,
     "metadata": {},
     "output_type": "execute_result"
    }
   ],
   "source": [
    "'disney_plus_titles'.split('_')[0]"
   ]
  },
  {
   "cell_type": "code",
   "execution_count": 45,
   "metadata": {},
   "outputs": [],
   "source": [
    "#unir todas las pelicula\n",
    "movies=pd.DataFrame()\n",
    "for df in get_nombre_archivo(directorio):\n",
    "    locals()[df]['plataforma']=df.split('_')[0]\n",
    "    movies=pd.concat([movies,locals()[df]],ignore_index=True)\n"
   ]
  },
  {
   "cell_type": "code",
   "execution_count": 46,
   "metadata": {},
   "outputs": [],
   "source": [
    "del movies['duration']\n",
    "del movies['show_id']"
   ]
  },
  {
   "cell_type": "code",
   "execution_count": 48,
   "metadata": {},
   "outputs": [],
   "source": [
    "#exportando los datos a un archivo csv\n",
    "movies.to_csv('./data/data_procesada/movie.csv', sep=',', index=False, encoding='utf-8')"
   ]
  },
  {
   "cell_type": "code",
   "execution_count": 50,
   "metadata": {},
   "outputs": [
    {
     "data": {
      "text/html": [
       "<div>\n",
       "<style scoped>\n",
       "    .dataframe tbody tr th:only-of-type {\n",
       "        vertical-align: middle;\n",
       "    }\n",
       "\n",
       "    .dataframe tbody tr th {\n",
       "        vertical-align: top;\n",
       "    }\n",
       "\n",
       "    .dataframe thead th {\n",
       "        text-align: right;\n",
       "    }\n",
       "</style>\n",
       "<table border=\"1\" class=\"dataframe\">\n",
       "  <thead>\n",
       "    <tr style=\"text-align: right;\">\n",
       "      <th></th>\n",
       "      <th>title</th>\n",
       "      <th>type</th>\n",
       "      <th>director</th>\n",
       "      <th>cast</th>\n",
       "      <th>country</th>\n",
       "      <th>date_added</th>\n",
       "      <th>release_year</th>\n",
       "      <th>rating</th>\n",
       "      <th>listed_in</th>\n",
       "      <th>description</th>\n",
       "      <th>duration_int</th>\n",
       "      <th>duration_unit</th>\n",
       "      <th>plataforma</th>\n",
       "    </tr>\n",
       "    <tr>\n",
       "      <th>id</th>\n",
       "      <th></th>\n",
       "      <th></th>\n",
       "      <th></th>\n",
       "      <th></th>\n",
       "      <th></th>\n",
       "      <th></th>\n",
       "      <th></th>\n",
       "      <th></th>\n",
       "      <th></th>\n",
       "      <th></th>\n",
       "      <th></th>\n",
       "      <th></th>\n",
       "      <th></th>\n",
       "    </tr>\n",
       "  </thead>\n",
       "  <tbody>\n",
       "    <tr>\n",
       "      <th>ds1</th>\n",
       "      <td>duck the halls: a mickey mouse christmas special</td>\n",
       "      <td>movie</td>\n",
       "      <td>alonso ramirez ramos, dave wasson</td>\n",
       "      <td>chris diamantopoulos, tony anselmo, tress macn...</td>\n",
       "      <td>NaN</td>\n",
       "      <td>2021-11-26</td>\n",
       "      <td>2016</td>\n",
       "      <td>tv-g</td>\n",
       "      <td>animation, family</td>\n",
       "      <td>join mickey and the gang as they duck the halls!</td>\n",
       "      <td>23</td>\n",
       "      <td>min</td>\n",
       "      <td>disney</td>\n",
       "    </tr>\n",
       "    <tr>\n",
       "      <th>ds2</th>\n",
       "      <td>ernest saves christmas</td>\n",
       "      <td>movie</td>\n",
       "      <td>john cherry</td>\n",
       "      <td>jim varney, noelle parker, douglas seale</td>\n",
       "      <td>NaN</td>\n",
       "      <td>2021-11-26</td>\n",
       "      <td>1988</td>\n",
       "      <td>pg</td>\n",
       "      <td>comedy</td>\n",
       "      <td>santa claus passes his magic bag to a new st. ...</td>\n",
       "      <td>91</td>\n",
       "      <td>min</td>\n",
       "      <td>disney</td>\n",
       "    </tr>\n",
       "    <tr>\n",
       "      <th>ds3</th>\n",
       "      <td>ice age: a mammoth christmas</td>\n",
       "      <td>movie</td>\n",
       "      <td>karen disher</td>\n",
       "      <td>raymond albert romano, john leguizamo, denis l...</td>\n",
       "      <td>united states</td>\n",
       "      <td>2021-11-26</td>\n",
       "      <td>2011</td>\n",
       "      <td>tv-g</td>\n",
       "      <td>animation, comedy, family</td>\n",
       "      <td>sid the sloth is on santa's naughty list.</td>\n",
       "      <td>23</td>\n",
       "      <td>min</td>\n",
       "      <td>disney</td>\n",
       "    </tr>\n",
       "    <tr>\n",
       "      <th>ds4</th>\n",
       "      <td>the queen family singalong</td>\n",
       "      <td>movie</td>\n",
       "      <td>hamish hamilton</td>\n",
       "      <td>darren criss, adam lambert, derek hough, alexa...</td>\n",
       "      <td>NaN</td>\n",
       "      <td>2021-11-26</td>\n",
       "      <td>2021</td>\n",
       "      <td>tv-pg</td>\n",
       "      <td>musical</td>\n",
       "      <td>this is real life, not just fantasy!</td>\n",
       "      <td>41</td>\n",
       "      <td>min</td>\n",
       "      <td>disney</td>\n",
       "    </tr>\n",
       "    <tr>\n",
       "      <th>ds5</th>\n",
       "      <td>the beatles: get back</td>\n",
       "      <td>tv show</td>\n",
       "      <td>NaN</td>\n",
       "      <td>john lennon, paul mccartney, george harrison, ...</td>\n",
       "      <td>NaN</td>\n",
       "      <td>2021-11-25</td>\n",
       "      <td>2021</td>\n",
       "      <td>g</td>\n",
       "      <td>docuseries, historical, music</td>\n",
       "      <td>a three-part documentary from peter jackson ca...</td>\n",
       "      <td>1</td>\n",
       "      <td>season</td>\n",
       "      <td>disney</td>\n",
       "    </tr>\n",
       "  </tbody>\n",
       "</table>\n",
       "</div>"
      ],
      "text/plain": [
       "                                                title     type   \n",
       "id                                                               \n",
       "ds1  duck the halls: a mickey mouse christmas special    movie  \\\n",
       "ds2                            ernest saves christmas    movie   \n",
       "ds3                      ice age: a mammoth christmas    movie   \n",
       "ds4                        the queen family singalong    movie   \n",
       "ds5                             the beatles: get back  tv show   \n",
       "\n",
       "                              director   \n",
       "id                                       \n",
       "ds1  alonso ramirez ramos, dave wasson  \\\n",
       "ds2                        john cherry   \n",
       "ds3                       karen disher   \n",
       "ds4                    hamish hamilton   \n",
       "ds5                                NaN   \n",
       "\n",
       "                                                  cast        country   \n",
       "id                                                                      \n",
       "ds1  chris diamantopoulos, tony anselmo, tress macn...            NaN  \\\n",
       "ds2           jim varney, noelle parker, douglas seale            NaN   \n",
       "ds3  raymond albert romano, john leguizamo, denis l...  united states   \n",
       "ds4  darren criss, adam lambert, derek hough, alexa...            NaN   \n",
       "ds5  john lennon, paul mccartney, george harrison, ...            NaN   \n",
       "\n",
       "     date_added  release_year rating                      listed_in   \n",
       "id                                                                    \n",
       "ds1  2021-11-26          2016   tv-g              animation, family  \\\n",
       "ds2  2021-11-26          1988     pg                         comedy   \n",
       "ds3  2021-11-26          2011   tv-g      animation, comedy, family   \n",
       "ds4  2021-11-26          2021  tv-pg                        musical   \n",
       "ds5  2021-11-25          2021      g  docuseries, historical, music   \n",
       "\n",
       "                                           description  duration_int   \n",
       "id                                                                     \n",
       "ds1   join mickey and the gang as they duck the halls!            23  \\\n",
       "ds2  santa claus passes his magic bag to a new st. ...            91   \n",
       "ds3          sid the sloth is on santa's naughty list.            23   \n",
       "ds4               this is real life, not just fantasy!            41   \n",
       "ds5  a three-part documentary from peter jackson ca...             1   \n",
       "\n",
       "    duration_unit plataforma  \n",
       "id                            \n",
       "ds1           min     disney  \n",
       "ds2           min     disney  \n",
       "ds3           min     disney  \n",
       "ds4           min     disney  \n",
       "ds5        season     disney  "
      ]
     },
     "execution_count": 50,
     "metadata": {},
     "output_type": "execute_result"
    }
   ],
   "source": [
    "movies=pd.read_csv('./data/data_procesada/movie.csv',sep=',',encoding='utf-8',index_col='id')\n",
    "movies.head(5)"
   ]
  },
  {
   "cell_type": "code",
   "execution_count": 53,
   "metadata": {},
   "outputs": [
    {
     "name": "stdout",
     "output_type": "stream",
     "text": [
      "<class 'pandas.core.frame.DataFrame'>\n",
      "Index: 22998 entries, ds1 to hs3073\n",
      "Data columns (total 13 columns):\n",
      " #   Column         Non-Null Count  Dtype \n",
      "---  ------         --------------  ----- \n",
      " 0   title          22998 non-null  object\n",
      " 1   type           22998 non-null  object\n",
      " 2   director       15057 non-null  object\n",
      " 3   cast           18123 non-null  object\n",
      " 4   country        12078 non-null  object\n",
      " 5   date_added     14017 non-null  object\n",
      " 6   release_year   22998 non-null  int64 \n",
      " 7   rating         22998 non-null  object\n",
      " 8   listed_in      22998 non-null  object\n",
      " 9   description    22994 non-null  object\n",
      " 10  duration_int   22998 non-null  int64 \n",
      " 11  duration_unit  22998 non-null  object\n",
      " 12  plataforma     22998 non-null  object\n",
      "dtypes: int64(2), object(11)\n",
      "memory usage: 3.0+ MB\n"
     ]
    }
   ],
   "source": [
    "movies.info()"
   ]
  },
  {
   "cell_type": "code",
   "execution_count": 38,
   "metadata": {},
   "outputs": [
    {
     "data": {
      "text/plain": [
       "Index(['title', 'type', 'director', 'cast', 'country', 'date_added',\n",
       "       'release_year', 'rating', 'listed_in', 'description', 'duration_int',\n",
       "       'duration_unit'],\n",
       "      dtype='object')"
      ]
     },
     "execution_count": 38,
     "metadata": {},
     "output_type": "execute_result"
    }
   ],
   "source": [
    "movies.columns"
   ]
  },
  {
   "cell_type": "code",
   "execution_count": null,
   "metadata": {},
   "outputs": [],
   "source": []
  },
  {
   "cell_type": "markdown",
   "metadata": {},
   "source": []
  }
 ],
 "metadata": {
  "kernelspec": {
   "display_name": "venv",
   "language": "python",
   "name": "python3"
  },
  "language_info": {
   "codemirror_mode": {
    "name": "ipython",
    "version": 3
   },
   "file_extension": ".py",
   "mimetype": "text/x-python",
   "name": "python",
   "nbconvert_exporter": "python",
   "pygments_lexer": "ipython3",
   "version": "3.8.10"
  },
  "orig_nbformat": 4
 },
 "nbformat": 4,
 "nbformat_minor": 2
}
